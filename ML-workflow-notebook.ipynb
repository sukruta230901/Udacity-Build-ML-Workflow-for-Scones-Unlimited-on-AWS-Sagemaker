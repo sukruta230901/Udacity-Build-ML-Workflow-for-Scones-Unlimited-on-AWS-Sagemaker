{
 "cells": [
  {
   "cell_type": "markdown",
   "metadata": {},
   "source": [
    "# Deploy and monitor a machine learning workflow for Image Classification"
   ]
  },
  {
   "cell_type": "markdown",
   "metadata": {},
   "source": [
    "## Setting up this notebook\n",
    "\n",
    "Notes about the instance size and kernel setup: this notebook has been tested on\n",
    "\n",
    "1. The `Python 3 (Data Science)` kernel\n",
    "2. The `ml.t3.medium` Sagemaker notebook instance\n",
    "\n",
    "## Data Staging\n",
    "\n",
    "We'll use a sample dataset called CIFAR to simulate the challenges Scones Unlimited are facing in Image Classification. In order to start working with CIFAR we'll need to:\n",
    "\n",
    "1. Extract the data from a hosting service\n",
    "2. Transform it into a usable shape and format\n",
    "3. Load it into a production system\n",
    "\n",
    "In other words, we're going to do some simple ETL!\n",
    "\n",
    "### 1. Extract the data from the hosting service\n",
    "\n",
    "In the cell below, define a function `extract_cifar_data` that extracts the CIFAR-100 dataset. The CIFAR dataset is open source and generously hosted by the University of Toronto at: https://www.cs.toronto.edu/~kriz/cifar-100-python.tar.gz "
   ]
  },
  {
   "cell_type": "code",
   "execution_count": 2,
   "metadata": {
    "tags": []
   },
   "outputs": [],
   "source": [
    "import requests\n",
    "\n",
    "def extract_cifar_data(url, filename=\"cifar.tar.gz\"):\n",
    "    \"\"\"A function for extracting the CIFAR-100 dataset and storing it as a gzipped file\n",
    "    \n",
    "    Arguments:\n",
    "    url      -- the URL where the dataset is hosted\n",
    "    filename -- the full path where the dataset will be written\n",
    "    \n",
    "    \"\"\"\n",
    "    r = requests.get(url)\n",
    "    with open(filename, \"wb\") as file_context:\n",
    "        file_context.write(r.content)\n",
    "    return"
   ]
  },
  {
   "cell_type": "markdown",
   "metadata": {},
   "source": [
    "Let's test it out! Run the following cell and check whether a new file `cifar.tar.gz` is created in the file explorer."
   ]
  },
  {
   "cell_type": "code",
   "execution_count": 3,
   "metadata": {
    "tags": []
   },
   "outputs": [],
   "source": [
    "extract_cifar_data(\"https://www.cs.toronto.edu/~kriz/cifar-100-python.tar.gz\")     "
   ]
  },
  {
   "cell_type": "markdown",
   "metadata": {},
   "source": [
    "### 2. Transform the data into a usable shape and format\n",
    "\n",
    "Clearly, distributing the data as a gzipped archive makes sense for the hosting service! It saves on bandwidth, storage, and it's a widely-used archive format. In fact, it's so widely used that the Python community ships a utility for working with them, `tarfile`, as part of its Standard Library. Execute the following cell to decompress your extracted dataset:"
   ]
  },
  {
   "cell_type": "code",
   "execution_count": 4,
   "metadata": {
    "tags": []
   },
   "outputs": [],
   "source": [
    "import tarfile\n",
    "\n",
    "with tarfile.open(\"cifar.tar.gz\", \"r:gz\") as tar:\n",
    "    tar.extractall()"
   ]
  },
  {
   "cell_type": "markdown",
   "metadata": {},
   "source": [
    "A new folder `cifar-100-python` should be created, containing `meta`, `test`, and `train` files. These files are `pickles` and the [CIFAR homepage](https://www.cs.toronto.edu/~kriz/cifar.html) provides a simple script that can be used to load them. We've adapted the script below for you to run:"
   ]
  },
  {
   "cell_type": "code",
   "execution_count": 5,
   "metadata": {
    "tags": []
   },
   "outputs": [],
   "source": [
    "import pickle\n",
    "\n",
    "with open(\"./cifar-100-python/meta\", \"rb\") as f:\n",
    "    dataset_meta = pickle.load(f, encoding='bytes')\n",
    "\n",
    "with open(\"./cifar-100-python/test\", \"rb\") as f:\n",
    "    dataset_test = pickle.load(f, encoding='bytes')\n",
    "\n",
    "with open(\"./cifar-100-python/train\", \"rb\") as f:\n",
    "    dataset_train = pickle.load(f, encoding='bytes')"
   ]
  },
  {
   "cell_type": "code",
   "execution_count": 6,
   "metadata": {
    "tags": []
   },
   "outputs": [
    {
     "data": {
      "text/plain": [
       "dict_keys([b'filenames', b'batch_label', b'fine_labels', b'coarse_labels', b'data'])"
      ]
     },
     "execution_count": 6,
     "metadata": {},
     "output_type": "execute_result"
    }
   ],
   "source": [
    "# Feel free to explore the datasets\n",
    "dataset_train.keys()"
   ]
  },
  {
   "cell_type": "markdown",
   "metadata": {},
   "source": [
    "As documented on the homepage, `b'data'` contains rows of 3073 unsigned integers, representing three channels (red, green, and blue) for one 32x32 pixel image per row."
   ]
  },
  {
   "cell_type": "code",
   "execution_count": 7,
   "metadata": {
    "tags": []
   },
   "outputs": [
    {
     "data": {
      "text/plain": [
       "3072"
      ]
     },
     "execution_count": 7,
     "metadata": {},
     "output_type": "execute_result"
    }
   ],
   "source": [
    "32*32*3"
   ]
  },
  {
   "cell_type": "markdown",
   "metadata": {},
   "source": [
    "For a simple gut-check, let's transform one of our images. Each 1024 items in a row is a channel (red, green, then blue). Each 32 items in the channel are a row in the 32x32 image. Using python, we can stack these channels into a 32x32x3 array, and save it as a PNG file:"
   ]
  },
  {
   "cell_type": "code",
   "execution_count": 8,
   "metadata": {
    "tags": []
   },
   "outputs": [],
   "source": [
    "import numpy as np\n",
    "\n",
    "# Each 1024 in a row is a channel (red, green, then blue)\n",
    "row = dataset_train[b'data'][0]\n",
    "red, green, blue = row[0:1024], row[1024:2048], row[2048:]\n",
    "\n",
    "# Each 32 items in the channel are a row in the 32x32 image\n",
    "red = red.reshape(32,32)\n",
    "green = green.reshape(32,32)\n",
    "blue = blue.reshape(32,32)\n",
    "\n",
    "# Combine the channels into a 32x32x3 image!\n",
    "combined = np.dstack((red,green,blue))"
   ]
  },
  {
   "cell_type": "markdown",
   "metadata": {},
   "source": [
    "For a more concise version, consider the following:"
   ]
  },
  {
   "cell_type": "code",
   "execution_count": 9,
   "metadata": {
    "tags": []
   },
   "outputs": [],
   "source": [
    "# All in one:\n",
    "test_image = np.dstack((\n",
    "    row[0:1024].reshape(32,32),\n",
    "    row[1024:2048].reshape(32,32),\n",
    "    row[2048:].reshape(32,32)\n",
    "))"
   ]
  },
  {
   "cell_type": "code",
   "execution_count": 12,
   "metadata": {
    "tags": []
   },
   "outputs": [
    {
     "data": {
      "image/png": "[encoded data removed]",
      "text/plain": [
       "<Figure size 640x480 with 1 Axes>"
      ]
     },
     "metadata": {},
     "output_type": "display_data"
    }
   ],
   "source": [
    "%matplotlib inline\n",
    "\n",
    "import matplotlib.pyplot as plt\n",
    "plt.imshow(test_image);"
   ]
  },
  {
   "cell_type": "markdown",
   "metadata": {},
   "source": [
    "Looks like a cow! Let's check the label. `dataset_meta` contains label names in order, and `dataset_train` has a list of labels for each row."
   ]
  },
  {
   "cell_type": "code",
   "execution_count": 13,
   "metadata": {
    "tags": []
   },
   "outputs": [
    {
     "data": {
      "text/plain": [
       "19"
      ]
     },
     "execution_count": 13,
     "metadata": {},
     "output_type": "execute_result"
    }
   ],
   "source": [
    "dataset_train[b'fine_labels'][0]"
   ]
  },
  {
   "cell_type": "markdown",
   "metadata": {},
   "source": [
    "Our image has a label of `19`, so let's see what the 19th item is in the list of label names."
   ]
  },
  {
   "cell_type": "code",
   "execution_count": 14,
   "metadata": {
    "tags": []
   },
   "outputs": [
    {
     "name": "stdout",
     "output_type": "stream",
     "text": [
      "b'cattle'\n"
     ]
    }
   ],
   "source": [
    "print(dataset_meta[b'fine_label_names'][19])"
   ]
  },
  {
   "cell_type": "markdown",
   "metadata": {},
   "source": [
    "Ok! 'cattle' sounds about right. By the way, using the previous two lines we can do:"
   ]
  },
  {
   "cell_type": "code",
   "execution_count": 15,
   "metadata": {
    "tags": []
   },
   "outputs": [
    {
     "name": "stdout",
     "output_type": "stream",
     "text": [
      "b'cattle'\n"
     ]
    }
   ],
   "source": [
    "n = 0\n",
    "print(dataset_meta[b'fine_label_names'][dataset_train[b'fine_labels'][n]])"
   ]
  },
  {
   "cell_type": "markdown",
   "metadata": {},
   "source": [
    "Now we know how to check labels, is there a way that we can also check file names? `dataset_train` also contains a `b'filenames'` key. Let's see what we have here:"
   ]
  },
  {
   "cell_type": "code",
   "execution_count": 16,
   "metadata": {
    "tags": []
   },
   "outputs": [
    {
     "name": "stdout",
     "output_type": "stream",
     "text": [
      "b'bos_taurus_s_000507.png'\n"
     ]
    }
   ],
   "source": [
    "print(dataset_train[b'filenames'][0])"
   ]
  },
  {
   "cell_type": "markdown",
   "metadata": {},
   "source": [
    "\"Taurus\" is the name of a subspecies of cattle, so this looks like a pretty reasonable filename. To save an image we can also do:"
   ]
  },
  {
   "cell_type": "code",
   "execution_count": 17,
   "metadata": {
    "tags": []
   },
   "outputs": [],
   "source": [
    "plt.imsave(\"file.png\", test_image)"
   ]
  },
  {
   "cell_type": "markdown",
   "metadata": {},
   "source": [
    "Your new PNG file should now appear in the file explorer -- go ahead and pop it open to see!\n",
    "\n",
    "Now that you know how to reshape the images, save them as files, and capture their filenames and labels, let's just capture all the bicycles and motorcycles and save them. Scones Unlimited can use a model that tells these apart to route delivery drivers automatically.\n",
    "\n",
    "In the following cell, identify the label numbers for Bicycles and Motorcycles:"
   ]
  },
  {
   "cell_type": "code",
   "execution_count": 20,
   "metadata": {
    "tags": []
   },
   "outputs": [
    {
     "data": {
      "text/plain": [
       "(48, 8)"
      ]
     },
     "execution_count": 20,
     "metadata": {},
     "output_type": "execute_result"
    }
   ],
   "source": [
    "import pandas as pd\n",
    "\n",
    "motorcycle_label = dataset_meta[b'fine_label_names'].index(b'motorcycle')\n",
    "bicycle_label = dataset_meta[b'fine_label_names'].index(b'bicycle')\n",
    "motorcycle_label, bicycle_label"
   ]
  },
  {
   "cell_type": "markdown",
   "metadata": {},
   "source": [
    "Good job! We only need objects with label 8 and 48 -- this drastically simplifies our handling of the data! Below we construct a dataframe for you, and you can safely drop the rows that don't contain observations about bicycles and motorcycles. Fill in the missing lines below to drop all other rows:"
   ]
  },
  {
   "cell_type": "code",
   "execution_count": 33,
   "metadata": {
    "tags": []
   },
   "outputs": [
    {
     "data": {
      "text/html": [
       "<div>\n",
       "<style scoped>\n",
       "    .dataframe tbody tr th:only-of-type {\n",
       "        vertical-align: middle;\n",
       "    }\n",
       "\n",
       "    .dataframe tbody tr th {\n",
       "        vertical-align: top;\n",
       "    }\n",
       "\n",
       "    .dataframe thead th {\n",
       "        text-align: right;\n",
       "    }\n",
       "</style>\n",
       "<table border=\"1\" class=\"dataframe\">\n",
       "  <thead>\n",
       "    <tr style=\"text-align: right;\">\n",
       "      <th></th>\n",
       "      <th>filenames</th>\n",
       "      <th>labels</th>\n",
       "      <th>row</th>\n",
       "    </tr>\n",
       "  </thead>\n",
       "  <tbody>\n",
       "    <tr>\n",
       "      <th>23132</th>\n",
       "      <td>b'nile_crocodile_s_000748.png'</td>\n",
       "      <td>27</td>\n",
       "      <td>23132</td>\n",
       "    </tr>\n",
       "    <tr>\n",
       "      <th>41976</th>\n",
       "      <td>b'cup_s_000937.png'</td>\n",
       "      <td>28</td>\n",
       "      <td>41976</td>\n",
       "    </tr>\n",
       "    <tr>\n",
       "      <th>47821</th>\n",
       "      <td>b'coffee_can_s_001160.png'</td>\n",
       "      <td>16</td>\n",
       "      <td>47821</td>\n",
       "    </tr>\n",
       "    <tr>\n",
       "      <th>44867</th>\n",
       "      <td>b'bear_s_001086.png'</td>\n",
       "      <td>3</td>\n",
       "      <td>44867</td>\n",
       "    </tr>\n",
       "    <tr>\n",
       "      <th>27372</th>\n",
       "      <td>b'plate_s_000187.png'</td>\n",
       "      <td>61</td>\n",
       "      <td>27372</td>\n",
       "    </tr>\n",
       "  </tbody>\n",
       "</table>\n",
       "</div>"
      ],
      "text/plain": [
       "                            filenames  labels    row\n",
       "23132  b'nile_crocodile_s_000748.png'      27  23132\n",
       "41976             b'cup_s_000937.png'      28  41976\n",
       "47821      b'coffee_can_s_001160.png'      16  47821\n",
       "44867            b'bear_s_001086.png'       3  44867\n",
       "27372           b'plate_s_000187.png'      61  27372"
      ]
     },
     "execution_count": 33,
     "metadata": {},
     "output_type": "execute_result"
    }
   ],
   "source": [
    "#Construct the dataframe\n",
    "df_train = pd.DataFrame({\n",
    "    \"filenames\": dataset_train[b'filenames'],\n",
    "    \"labels\": dataset_train[b'fine_labels'],\n",
    "    \"row\": range(len(dataset_train[b'filenames']))\n",
    "})\n",
    "df_train.sample(5)"
   ]
  },
  {
   "cell_type": "code",
   "execution_count": 34,
   "metadata": {
    "tags": []
   },
   "outputs": [
    {
     "data": {
      "text/html": [
       "<div>\n",
       "<style scoped>\n",
       "    .dataframe tbody tr th:only-of-type {\n",
       "        vertical-align: middle;\n",
       "    }\n",
       "\n",
       "    .dataframe tbody tr th {\n",
       "        vertical-align: top;\n",
       "    }\n",
       "\n",
       "    .dataframe thead th {\n",
       "        text-align: right;\n",
       "    }\n",
       "</style>\n",
       "<table border=\"1\" class=\"dataframe\">\n",
       "  <thead>\n",
       "    <tr style=\"text-align: right;\">\n",
       "      <th></th>\n",
       "      <th>filenames</th>\n",
       "      <th>labels</th>\n",
       "      <th>row</th>\n",
       "    </tr>\n",
       "  </thead>\n",
       "  <tbody>\n",
       "    <tr>\n",
       "      <th>29351</th>\n",
       "      <td>ordinary_bicycle_s_000274.png</td>\n",
       "      <td>8</td>\n",
       "      <td>29351</td>\n",
       "    </tr>\n",
       "    <tr>\n",
       "      <th>26228</th>\n",
       "      <td>ordinary_bicycle_s_000324.png</td>\n",
       "      <td>8</td>\n",
       "      <td>26228</td>\n",
       "    </tr>\n",
       "    <tr>\n",
       "      <th>27808</th>\n",
       "      <td>safety_bicycle_s_000140.png</td>\n",
       "      <td>8</td>\n",
       "      <td>27808</td>\n",
       "    </tr>\n",
       "    <tr>\n",
       "      <th>17220</th>\n",
       "      <td>motorcycle_s_001492.png</td>\n",
       "      <td>48</td>\n",
       "      <td>17220</td>\n",
       "    </tr>\n",
       "    <tr>\n",
       "      <th>8153</th>\n",
       "      <td>bicycle_s_000753.png</td>\n",
       "      <td>8</td>\n",
       "      <td>8153</td>\n",
       "    </tr>\n",
       "  </tbody>\n",
       "</table>\n",
       "</div>"
      ],
      "text/plain": [
       "                           filenames  labels    row\n",
       "29351  ordinary_bicycle_s_000274.png       8  29351\n",
       "26228  ordinary_bicycle_s_000324.png       8  26228\n",
       "27808    safety_bicycle_s_000140.png       8  27808\n",
       "17220        motorcycle_s_001492.png      48  17220\n",
       "8153            bicycle_s_000753.png       8   8153"
      ]
     },
     "execution_count": 34,
     "metadata": {},
     "output_type": "execute_result"
    }
   ],
   "source": [
    "# Drop all rows from df_train where label is not 8 or 48\n",
    "df_train = df_train[df_train['labels'].isin([bicycle_label, motorcycle_label])]\n",
    "\n",
    "# Decode df_train.filenames so they are regular strings\n",
    "df_train.loc[:, [\"filenames\"]] = df_train[\"filenames\"].apply(\n",
    "    lambda x: x.decode(\"utf-8\")\n",
    ")\n",
    "df_train.sample(5)"
   ]
  },
  {
   "cell_type": "code",
   "execution_count": 36,
   "metadata": {
    "tags": []
   },
   "outputs": [
    {
     "data": {
      "text/html": [
       "<div>\n",
       "<style scoped>\n",
       "    .dataframe tbody tr th:only-of-type {\n",
       "        vertical-align: middle;\n",
       "    }\n",
       "\n",
       "    .dataframe tbody tr th {\n",
       "        vertical-align: top;\n",
       "    }\n",
       "\n",
       "    .dataframe thead th {\n",
       "        text-align: right;\n",
       "    }\n",
       "</style>\n",
       "<table border=\"1\" class=\"dataframe\">\n",
       "  <thead>\n",
       "    <tr style=\"text-align: right;\">\n",
       "      <th></th>\n",
       "      <th>filenames</th>\n",
       "      <th>labels</th>\n",
       "      <th>row</th>\n",
       "    </tr>\n",
       "  </thead>\n",
       "  <tbody>\n",
       "    <tr>\n",
       "      <th>1043</th>\n",
       "      <td>bicycle_s_000513.png</td>\n",
       "      <td>8</td>\n",
       "      <td>1043</td>\n",
       "    </tr>\n",
       "    <tr>\n",
       "      <th>319</th>\n",
       "      <td>ordinary_bicycle_s_000437.png</td>\n",
       "      <td>8</td>\n",
       "      <td>319</td>\n",
       "    </tr>\n",
       "    <tr>\n",
       "      <th>8763</th>\n",
       "      <td>minibike_s_001605.png</td>\n",
       "      <td>48</td>\n",
       "      <td>8763</td>\n",
       "    </tr>\n",
       "    <tr>\n",
       "      <th>6343</th>\n",
       "      <td>motorcycle_s_000602.png</td>\n",
       "      <td>48</td>\n",
       "      <td>6343</td>\n",
       "    </tr>\n",
       "    <tr>\n",
       "      <th>1321</th>\n",
       "      <td>minibike_s_000052.png</td>\n",
       "      <td>48</td>\n",
       "      <td>1321</td>\n",
       "    </tr>\n",
       "  </tbody>\n",
       "</table>\n",
       "</div>"
      ],
      "text/plain": [
       "                          filenames  labels   row\n",
       "1043           bicycle_s_000513.png       8  1043\n",
       "319   ordinary_bicycle_s_000437.png       8   319\n",
       "8763          minibike_s_001605.png      48  8763\n",
       "6343        motorcycle_s_000602.png      48  6343\n",
       "1321          minibike_s_000052.png      48  1321"
      ]
     },
     "execution_count": 36,
     "metadata": {},
     "output_type": "execute_result"
    }
   ],
   "source": [
    "df_test = pd.DataFrame({\n",
    "    \"filenames\": dataset_test[b'filenames'],\n",
    "    \"labels\": dataset_test[b'fine_labels'],\n",
    "    \"row\": range(len(dataset_test[b'filenames']))\n",
    "})\n",
    "\n",
    "# Drop all rows from df_test where label is not 8 or 48\n",
    "df_test = df_test[df_test['labels'].isin([bicycle_label, motorcycle_label])]\n",
    "\n",
    "# Decode df_test.filenames so they are regular strings\n",
    "df_test.loc[:, [\"filenames\"]] = df_test[\"filenames\"].apply(\n",
    "    lambda x: x.decode(\"utf-8\")\n",
    ")\n",
    "df_test.sample(5)"
   ]
  },
  {
   "cell_type": "markdown",
   "metadata": {},
   "source": [
    "Now that the data is filtered for just our classes, we can save all our images."
   ]
  },
  {
   "cell_type": "code",
   "execution_count": 37,
   "metadata": {
    "tags": []
   },
   "outputs": [],
   "source": [
    "!mkdir ./train\n",
    "!mkdir ./test"
   ]
  },
  {
   "cell_type": "markdown",
   "metadata": {},
   "source": [
    "In the previous sections we introduced you to several key snippets of code:\n",
    "\n",
    "1. Grabbing the image data:\n",
    "\n",
    "```python\n",
    "dataset_train[b'data'][0]\n",
    "```\n",
    "\n",
    "2. A simple idiom for stacking the image data into the right shape\n",
    "\n",
    "```python\n",
    "import numpy as np\n",
    "np.dstack((\n",
    "    row[0:1024].reshape(32,32),\n",
    "    row[1024:2048].reshape(32,32),\n",
    "    row[2048:].reshape(32,32)\n",
    "))\n",
    "```\n",
    "\n",
    "3. A simple `matplotlib` utility for saving images\n",
    "\n",
    "```python\n",
    "plt.imsave(path+row['filenames'], target)\n",
    "```\n",
    "\n",
    "Compose these together into a function that saves all the images into the `./test` and `./train` directories. Use the comments in the body of the `save_images` function below to guide your construction of the function:\n"
   ]
  },
  {
   "cell_type": "code",
   "execution_count": 58,
   "metadata": {
    "tags": []
   },
   "outputs": [],
   "source": [
    "def save_images(dataset: dict, row: dict, path: str):\n",
    "    #Grab the image data in row-major form\n",
    "    img_index = row['row']\n",
    "    img = dataset[b'data'][img_index]\n",
    "    \n",
    "    # Consolidated stacking/reshaping from earlier\n",
    "    target = np.dstack((\n",
    "        img[0:1024].reshape(32,32),\n",
    "        img[1024:2048].reshape(32,32),\n",
    "        img[2048:].reshape(32,32)\n",
    "    ))\n",
    "    \n",
    "    # Save the image\n",
    "    plt.imsave(f'{path}/{row[\"filenames\"]}', target)\n",
    "    \n",
    "    return \"ok\""
   ]
  },
  {
   "cell_type": "code",
   "execution_count": 58,
   "metadata": {
    "tags": []
   },
   "outputs": [],
   "source": [
    "for row in df_train.to_dict(orient='records'):\n",
    "    save_images(dataset_train, row, './train')"
   ]
  },
  {
   "cell_type": "code",
   "execution_count": 59,
   "metadata": {
    "tags": []
   },
   "outputs": [],
   "source": [
    "for row in df_test.to_dict(orient='records'):\n",
    "    save_images(dataset_test, row, './test')"
   ]
  },
  {
   "cell_type": "markdown",
   "metadata": {},
   "source": [
    "### 3. Load the data\n",
    "\n",
    "Now we can load the data into S3.\n",
    "\n",
    "Using the sagemaker SDK grab the current region, execution role, and bucket."
   ]
  },
  {
   "cell_type": "code",
   "execution_count": 4,
   "metadata": {
    "tags": []
   },
   "outputs": [
    {
     "name": "stdout",
     "output_type": "stream",
     "text": [
      "Default Bucket: sagemaker-us-east-1-731326286809\n",
      "AWS Region: us-east-1\n",
      "RoleArn: arn:aws:iam::731326286809:role/service-role/AmazonSageMaker-ExecutionRole-20230108T135905\n"
     ]
    }
   ],
   "source": [
    "import sagemaker\n",
    "\n",
    "session = sagemaker.Session()\n",
    "\n",
    "bucket= session.default_bucket()\n",
    "print(\"Default Bucket: {}\".format(bucket))\n",
    "\n",
    "region = session.boto_region_name\n",
    "print(\"AWS Region: {}\".format(region))\n",
    "\n",
    "role = sagemaker.get_execution_role()\n",
    "print(\"RoleArn: {}\".format(role))"
   ]
  },
  {
   "cell_type": "markdown",
   "metadata": {},
   "source": [
    "With this data we can easily sync your data up into S3!"
   ]
  },
  {
   "cell_type": "code",
   "execution_count": null,
   "metadata": {
    "tags": []
   },
   "outputs": [],
   "source": [
    "import os\n",
    "\n",
    "os.environ[\"DEFAULT_S3_BUCKET\"] = bucket\n",
    "!aws s3 sync ./train s3://${DEFAULT_S3_BUCKET}/train/\n",
    "!aws s3 sync ./test s3://${DEFAULT_S3_BUCKET}/test/"
   ]
  },
  {
   "cell_type": "markdown",
   "metadata": {},
   "source": [
    "And that's it! You can check the bucket and verify that the items were uploaded.\n",
    "\n",
    "## Model Training\n",
    "\n",
    "For Image Classification, Sagemaker [also expects metadata](https://docs.aws.amazon.com/sagemaker/latest/dg/image-classification.html) e.g. in the form of TSV files with labels and filepaths. We can generate these using our Pandas DataFrames from earlier:"
   ]
  },
  {
   "cell_type": "code",
   "execution_count": 73,
   "metadata": {
    "tags": []
   },
   "outputs": [],
   "source": [
    "def to_metadata_file(df, prefix):\n",
    "    df[\"s3_path\"] = df[\"filenames\"]\n",
    "    df[\"labels\"] = df[\"labels\"].apply(lambda x: 0 if x==8 else 1)\n",
    "    return df[[\"row\", \"labels\", \"s3_path\"]].to_csv(\n",
    "        f\"{prefix}.lst\", sep=\"\\t\", index=False, header=False\n",
    "    )\n",
    "    \n",
    "to_metadata_file(df_train.copy(), \"train\")\n",
    "to_metadata_file(df_test.copy(), \"test\")"
   ]
  },
  {
   "cell_type": "markdown",
   "metadata": {},
   "source": [
    "We can also upload our manifest files:"
   ]
  },
  {
   "cell_type": "code",
   "execution_count": 74,
   "metadata": {
    "tags": []
   },
   "outputs": [],
   "source": [
    "import boto3\n",
    "\n",
    "# Upload files\n",
    "boto3.Session().resource('s3').Bucket(\n",
    "    bucket).Object('train.lst').upload_file('./train.lst')\n",
    "boto3.Session().resource('s3').Bucket(\n",
    "    bucket).Object('test.lst').upload_file('./test.lst')"
   ]
  },
  {
   "cell_type": "markdown",
   "metadata": {},
   "source": [
    "Using the `bucket` and `region` info we can get the latest prebuilt container to run our training job, and define an output location on our s3 bucket for the model. Use the `image_uris` function from the SageMaker SDK to retrieve the latest `image-classification` image below:"
   ]
  },
  {
   "cell_type": "code",
   "execution_count": 8,
   "metadata": {
    "tags": []
   },
   "outputs": [
    {
     "name": "stderr",
     "output_type": "stream",
     "text": [
      "Defaulting to the only supported framework/algorithm version: 1. Ignoring framework/algorithm version: latest.\n"
     ]
    }
   ],
   "source": [
    "# Use the image_uris function to retrieve the latest 'image-classification' image \n",
    "algo_image = sagemaker.image_uris.retrieve('image-classification', region, version='latest')\n",
    "s3_output_location = f\"s3://{bucket}/models/image_model\""
   ]
  },
  {
   "cell_type": "markdown",
   "metadata": {},
   "source": [
    "We're ready to create an estimator! Create an estimator `img_classifier_model` that uses one instance of `ml.p3.2xlarge`. Ensure that y ou use the output location we defined above - we'll be referring to that later!"
   ]
  },
  {
   "cell_type": "code",
   "execution_count": null,
   "metadata": {
    "tags": []
   },
   "outputs": [],
   "source": [
    "img_classifier_model=sagemaker.estimator.Estimator(\n",
    "    algo_image,\n",
    "    role,\n",
    "    instance_count=1,\n",
    "    instance_type='ml.p3.2xlarge',\n",
    "    output_path=s3_output_location,\n",
    "    sagemaker_session=session\n",
    ")"
   ]
  },
  {
   "cell_type": "markdown",
   "metadata": {},
   "source": [
    "We can also set a few key hyperparameters and define the inputs for our model:"
   ]
  },
  {
   "cell_type": "code",
   "execution_count": 78,
   "metadata": {
    "tags": []
   },
   "outputs": [
    {
     "data": {
      "text/plain": [
       "(1000, 3)"
      ]
     },
     "execution_count": 78,
     "metadata": {},
     "output_type": "execute_result"
    }
   ],
   "source": [
    "df_train.shape"
   ]
  },
  {
   "cell_type": "code",
   "execution_count": 79,
   "metadata": {
    "tags": []
   },
   "outputs": [],
   "source": [
    "img_classifier_model.set_hyperparameters(\n",
    "    image_shape='3,32,32',\n",
    "    num_classes=2,\n",
    "    num_training_samples=1000\n",
    ")"
   ]
  },
  {
   "cell_type": "markdown",
   "metadata": {},
   "source": [
    "The `image-classification` image uses four input channels with very specific input parameters. For convenience, we've provided them below:"
   ]
  },
  {
   "cell_type": "code",
   "execution_count": 80,
   "metadata": {
    "tags": []
   },
   "outputs": [],
   "source": [
    "from sagemaker.debugger import Rule, rule_configs\n",
    "from sagemaker.session import TrainingInput\n",
    "model_inputs = {\n",
    "        \"train\": sagemaker.inputs.TrainingInput(\n",
    "            s3_data=f\"s3://{bucket}/train/\",\n",
    "            content_type=\"application/x-image\"\n",
    "        ),\n",
    "        \"validation\": sagemaker.inputs.TrainingInput(\n",
    "            s3_data=f\"s3://{bucket}/test/\",\n",
    "            content_type=\"application/x-image\"\n",
    "        ),\n",
    "        \"train_lst\": sagemaker.inputs.TrainingInput(\n",
    "            s3_data=f\"s3://{bucket}/train.lst\",\n",
    "            content_type=\"application/x-image\"\n",
    "        ),\n",
    "        \"validation_lst\": sagemaker.inputs.TrainingInput(\n",
    "            s3_data=f\"s3://{bucket}/test.lst\",\n",
    "            content_type=\"application/x-image\"\n",
    "        )\n",
    "}"
   ]
  },
  {
   "cell_type": "markdown",
   "metadata": {},
   "source": [
    "Great, now we can train the model using the model_inputs. In the cell below, call the `fit` method on our model,:"
   ]
  },
  {
   "cell_type": "code",
   "execution_count": 82,
   "metadata": {
    "tags": []
   },
   "outputs": [
    {
     "name": "stdout",
     "output_type": "stream",
     "text": [
      "2023-01-08 14:36:19 Starting - Starting the training job...\n",
      "2023-01-08 14:36:46 Starting - Preparing the instances for trainingProfilerReport-1673188579: InProgress\n",
      "......\n",
      "2023-01-08 14:37:50 Downloading - Downloading input data...\n",
      "2023-01-08 14:38:16 Training - Downloading the training image...............\n",
      "2023-01-08 14:40:43 Training - Training image download completed. Training in progress.\u001b[34mDocker entrypoint called with argument(s): train\u001b[0m\n",
      "\u001b[34mRunning default environment configuration script\u001b[0m\n",
      "\u001b[34mNvidia gpu devices, drivers and cuda toolkit versions (only available on hosts with GPU):\u001b[0m\n",
      "\u001b[34mSun Jan  8 14:40:40 2023       \u001b[0m\n",
      "\u001b[34m+-----------------------------------------------------------------------------+\u001b[0m\n",
      "\u001b[34m| NVIDIA-SMI 510.47.03    Driver Version: 510.47.03    CUDA Version: 11.6     |\u001b[0m\n",
      "\u001b[34m|-------------------------------+----------------------+----------------------+\u001b[0m\n",
      "\u001b[34m| GPU  Name        Persistence-M| Bus-Id        Disp.A | Volatile Uncorr. ECC |\u001b[0m\n",
      "\u001b[34m| Fan  Temp  Perf  Pwr:Usage/Cap|         Memory-Usage | GPU-Util  Compute M. |\u001b[0m\n",
      "\u001b[34m|                               |                      |               MIG M. |\u001b[0m\n",
      "\u001b[34m|===============================+======================+======================|\u001b[0m\n",
      "\u001b[34m|   0  Tesla V100-SXM2...  On   | 00000000:00:1E.0 Off |                    0 |\u001b[0m\n",
      "\u001b[34m| N/A   32C    P0    25W / 300W |      0MiB / 16384MiB |      0%      Default |\u001b[0m\n",
      "\u001b[34m|                               |                      |                  N/A |\u001b[0m\n",
      "\u001b[34m+-------------------------------+----------------------+----------------------+\n",
      "                                                                               \u001b[0m\n",
      "\u001b[34m+-----------------------------------------------------------------------------+\u001b[0m\n",
      "\u001b[34m| Processes:                                                                  |\u001b[0m\n",
      "\u001b[34m|  GPU   GI   CI        PID   Type   Process name                  GPU Memory |\u001b[0m\n",
      "\u001b[34m|        ID   ID                                                   Usage      |\u001b[0m\n",
      "\u001b[34m|=============================================================================|\u001b[0m\n",
      "\u001b[34m|  No running processes found                                                 |\u001b[0m\n",
      "\u001b[34m+-----------------------------------------------------------------------------+\u001b[0m\n",
      "\u001b[34mChecking for nvidia driver and cuda compatibility.\u001b[0m\n",
      "\u001b[34mCUDA Compatibility driver provided.\u001b[0m\n",
      "\u001b[34mProceeding with compatibility check between driver, cuda-toolkit and cuda-compat.\u001b[0m\n",
      "\u001b[34mDetected cuda-toolkit version: 11.1.\u001b[0m\n",
      "\u001b[34mDetected cuda-compat version: 455.32.00.\u001b[0m\n",
      "\u001b[34mDetected Nvidia driver version: 510.47.03.\u001b[0m\n",
      "\u001b[34mNvidia driver compatible with cuda-toolkit. Disabling cuda-compat.\u001b[0m\n",
      "\u001b[34m[01/08/2023 14:40:44 INFO 140593367467840] Reading default configuration from /opt/amazon/lib/python3.7/site-packages/image_classification/default-input.json: {'use_pretrained_model': 0, 'num_layers': 152, 'epochs': 30, 'learning_rate': 0.1, 'lr_scheduler_factor': 0.1, 'optimizer': 'sgd', 'momentum': 0, 'weight_decay': 0.0001, 'beta_1': 0.9, 'beta_2': 0.999, 'eps': 1e-08, 'gamma': 0.9, 'mini_batch_size': 32, 'image_shape': '3,224,224', 'precision_dtype': 'float32'}\u001b[0m\n",
      "\u001b[34m[01/08/2023 14:40:44 INFO 140593367467840] Merging with provided configuration from /opt/ml/input/config/hyperparameters.json: {'image_shape': '3,32,32', 'num_classes': '2', 'num_training_samples': '1000'}\u001b[0m\n",
      "\u001b[34m[01/08/2023 14:40:44 INFO 140593367467840] Final configuration: {'use_pretrained_model': 0, 'num_layers': 152, 'epochs': 30, 'learning_rate': 0.1, 'lr_scheduler_factor': 0.1, 'optimizer': 'sgd', 'momentum': 0, 'weight_decay': 0.0001, 'beta_1': 0.9, 'beta_2': 0.999, 'eps': 1e-08, 'gamma': 0.9, 'mini_batch_size': 32, 'image_shape': '3,32,32', 'precision_dtype': 'float32', 'num_classes': '2', 'num_training_samples': '1000'}\u001b[0m\n",
      "\u001b[34m[01/08/2023 14:40:44 INFO 140593367467840] Searching for .lst files in /opt/ml/input/data/train_lst.\u001b[0m\n",
      "\u001b[34m[01/08/2023 14:40:44 INFO 140593367467840] Creating record files for train.lst\u001b[0m\n",
      "\u001b[34m[01/08/2023 14:40:44 INFO 140593367467840] Done creating record files...\u001b[0m\n",
      "\u001b[34m[01/08/2023 14:40:44 INFO 140593367467840] Searching for .lst files in /opt/ml/input/data/validation_lst.\u001b[0m\n",
      "\u001b[34m[01/08/2023 14:40:44 INFO 140593367467840] Creating record files for test.lst\u001b[0m\n",
      "\u001b[34m[01/08/2023 14:40:44 INFO 140593367467840] Done creating record files...\u001b[0m\n",
      "\u001b[34m[01/08/2023 14:40:44 INFO 140593367467840] use_pretrained_model: 0\u001b[0m\n",
      "\u001b[34m[01/08/2023 14:40:44 INFO 140593367467840] multi_label: 0\u001b[0m\n",
      "\u001b[34m[01/08/2023 14:40:44 INFO 140593367467840] Performing random weight initialization\u001b[0m\n",
      "\u001b[34m[01/08/2023 14:40:44 INFO 140593367467840] ---- Parameters ----\u001b[0m\n",
      "\u001b[34m[01/08/2023 14:40:44 INFO 140593367467840] num_layers: 152\u001b[0m\n",
      "\u001b[34m[01/08/2023 14:40:44 INFO 140593367467840] data type: <class 'numpy.float32'>\u001b[0m\n",
      "\u001b[34m[01/08/2023 14:40:44 INFO 140593367467840] epochs: 30\u001b[0m\n",
      "\u001b[34m[01/08/2023 14:40:44 INFO 140593367467840] optimizer: sgd\u001b[0m\n",
      "\u001b[34m[01/08/2023 14:40:44 INFO 140593367467840] momentum: 0.9\u001b[0m\n",
      "\u001b[34m[01/08/2023 14:40:44 INFO 140593367467840] weight_decay: 0.0001\u001b[0m\n",
      "\u001b[34m[01/08/2023 14:40:44 INFO 140593367467840] learning_rate: 0.1\u001b[0m\n",
      "\u001b[34m[01/08/2023 14:40:44 INFO 140593367467840] num_training_samples: 1000\u001b[0m\n",
      "\u001b[34m[01/08/2023 14:40:44 INFO 140593367467840] mini_batch_size: 32\u001b[0m\n",
      "\u001b[34m[01/08/2023 14:40:44 INFO 140593367467840] image_shape: 3,32,32\u001b[0m\n",
      "\u001b[34m[01/08/2023 14:40:44 INFO 140593367467840] num_classes: 2\u001b[0m\n",
      "\u001b[34m[01/08/2023 14:40:44 INFO 140593367467840] augmentation_type: None\u001b[0m\n",
      "\u001b[34m[01/08/2023 14:40:44 INFO 140593367467840] kv_store: device\u001b[0m\n",
      "\u001b[34m[01/08/2023 14:40:44 INFO 140593367467840] checkpoint_frequency not set, will store the best model\u001b[0m\n",
      "\u001b[34m[01/08/2023 14:40:44 INFO 140593367467840] --------------------\u001b[0m\n",
      "\u001b[34m[01/08/2023 14:40:44 INFO 140593367467840] Setting number of threads: 7\u001b[0m\n",
      "\u001b[34m[14:40:48] /opt/brazil-pkg-cache/packages/AIAlgorithmsMXNet/AIAlgorithmsMXNet-1.4.x_ecl_Cuda_11.1.x.38.0/AL2_x86_64/generic-flavor/src/src/operator/nn/./cudnn/./cudnn_algoreg-inl.h:97: Running performance tests to find the best convolution algorithm, this can take a while... (setting env variable MXNET_CUDNN_AUTOTUNE_DEFAULT to 0 to disable)\u001b[0m\n",
      "\u001b[34m[01/08/2023 14:40:53 INFO 140593367467840] Epoch[0] Batch [20]#011Speed: 122.179 samples/sec#011accuracy=0.537202\u001b[0m\n",
      "\u001b[34m[01/08/2023 14:40:55 INFO 140593367467840] Epoch[0] Train-accuracy=0.582661\u001b[0m\n",
      "\u001b[34m[01/08/2023 14:40:55 INFO 140593367467840] Epoch[0] Time cost=6.919\u001b[0m\n",
      "\u001b[34m[01/08/2023 14:40:55 INFO 140593367467840] Epoch[0] Validation-accuracy=0.520833\u001b[0m\n",
      "\u001b[34m[01/08/2023 14:40:56 INFO 140593367467840] Storing the best model with validation accuracy: 0.520833\u001b[0m\n",
      "\u001b[34m[01/08/2023 14:40:56 INFO 140593367467840] Saved checkpoint to \"/opt/ml/model/image-classification-0001.params\"\u001b[0m\n",
      "\u001b[34m[01/08/2023 14:41:00 INFO 140593367467840] Epoch[1] Batch [20]#011Speed: 184.518 samples/sec#011accuracy=0.736607\u001b[0m\n",
      "\u001b[34m[01/08/2023 14:41:01 INFO 140593367467840] Epoch[1] Train-accuracy=0.728831\u001b[0m\n",
      "\u001b[34m[01/08/2023 14:41:01 INFO 140593367467840] Epoch[1] Time cost=5.137\u001b[0m\n",
      "\u001b[34m[01/08/2023 14:41:02 INFO 140593367467840] Epoch[1] Validation-accuracy=0.739583\u001b[0m\n",
      "\u001b[34m[01/08/2023 14:41:02 INFO 140593367467840] Storing the best model with validation accuracy: 0.739583\u001b[0m\n",
      "\u001b[34m[01/08/2023 14:41:03 INFO 140593367467840] Saved checkpoint to \"/opt/ml/model/image-classification-0002.params\"\u001b[0m\n",
      "\u001b[34m[01/08/2023 14:41:06 INFO 140593367467840] Epoch[2] Batch [20]#011Speed: 186.640 samples/sec#011accuracy=0.680060\u001b[0m\n",
      "\u001b[34m[01/08/2023 14:41:08 INFO 140593367467840] Epoch[2] Train-accuracy=0.704637\u001b[0m\n",
      "\u001b[34m[01/08/2023 14:41:08 INFO 140593367467840] Epoch[2] Time cost=5.096\u001b[0m\n",
      "\u001b[34m[01/08/2023 14:41:08 INFO 140593367467840] Epoch[2] Validation-accuracy=0.786458\u001b[0m\n",
      "\u001b[34m[01/08/2023 14:41:08 INFO 140593367467840] Storing the best model with validation accuracy: 0.786458\u001b[0m\n",
      "\u001b[34m[01/08/2023 14:41:09 INFO 140593367467840] Saved checkpoint to \"/opt/ml/model/image-classification-0003.params\"\u001b[0m\n",
      "\u001b[34m[01/08/2023 14:41:12 INFO 140593367467840] Epoch[3] Batch [20]#011Speed: 188.891 samples/sec#011accuracy=0.751488\u001b[0m\n",
      "\u001b[34m[01/08/2023 14:41:14 INFO 140593367467840] Epoch[3] Train-accuracy=0.775202\u001b[0m\n",
      "\u001b[34m[01/08/2023 14:41:14 INFO 140593367467840] Epoch[3] Time cost=5.071\u001b[0m\n",
      "\u001b[34m[01/08/2023 14:41:14 INFO 140593367467840] Epoch[3] Validation-accuracy=0.803571\u001b[0m\n",
      "\u001b[34m[01/08/2023 14:41:15 INFO 140593367467840] Storing the best model with validation accuracy: 0.803571\u001b[0m\n",
      "\u001b[34m[01/08/2023 14:41:15 INFO 140593367467840] Saved checkpoint to \"/opt/ml/model/image-classification-0004.params\"\u001b[0m\n",
      "\u001b[34m[01/08/2023 14:41:19 INFO 140593367467840] Epoch[4] Batch [20]#011Speed: 184.503 samples/sec#011accuracy=0.758929\u001b[0m\n",
      "\u001b[34m[01/08/2023 14:41:20 INFO 140593367467840] Epoch[4] Train-accuracy=0.764113\u001b[0m\n",
      "\u001b[34m[01/08/2023 14:41:20 INFO 140593367467840] Epoch[4] Time cost=5.160\u001b[0m\n",
      "\u001b[34m[01/08/2023 14:41:21 INFO 140593367467840] Epoch[4] Validation-accuracy=0.812500\u001b[0m\n",
      "\u001b[34m[01/08/2023 14:41:21 INFO 140593367467840] Storing the best model with validation accuracy: 0.812500\u001b[0m\n",
      "\u001b[34m[01/08/2023 14:41:22 INFO 140593367467840] Saved checkpoint to \"/opt/ml/model/image-classification-0005.params\"\u001b[0m\n",
      "\u001b[34m[01/08/2023 14:41:25 INFO 140593367467840] Epoch[5] Batch [20]#011Speed: 187.912 samples/sec#011accuracy=0.775298\u001b[0m\n",
      "\u001b[34m[01/08/2023 14:41:27 INFO 140593367467840] Epoch[5] Train-accuracy=0.757056\u001b[0m\n",
      "\u001b[34m[01/08/2023 14:41:27 INFO 140593367467840] Epoch[5] Time cost=5.081\u001b[0m\n",
      "\u001b[34m[01/08/2023 14:41:27 INFO 140593367467840] Epoch[5] Validation-accuracy=0.781250\u001b[0m\n",
      "\u001b[34m[01/08/2023 14:41:31 INFO 140593367467840] Epoch[6] Batch [20]#011Speed: 188.592 samples/sec#011accuracy=0.793155\u001b[0m\n",
      "\u001b[34m[01/08/2023 14:41:33 INFO 140593367467840] Epoch[6] Train-accuracy=0.792339\u001b[0m\n",
      "\u001b[34m[01/08/2023 14:41:33 INFO 140593367467840] Epoch[6] Time cost=5.081\u001b[0m\n",
      "\u001b[34m[01/08/2023 14:41:33 INFO 140593367467840] Epoch[6] Validation-accuracy=0.750000\u001b[0m\n",
      "\u001b[34m[01/08/2023 14:41:37 INFO 140593367467840] Epoch[7] Batch [20]#011Speed: 185.991 samples/sec#011accuracy=0.766369\u001b[0m\n",
      "\u001b[34m[01/08/2023 14:41:39 INFO 140593367467840] Epoch[7] Train-accuracy=0.776210\u001b[0m\n",
      "\u001b[34m[01/08/2023 14:41:39 INFO 140593367467840] Epoch[7] Time cost=5.112\u001b[0m\n",
      "\u001b[34m[01/08/2023 14:41:39 INFO 140593367467840] Epoch[7] Validation-accuracy=0.794643\u001b[0m\n",
      "\u001b[34m[01/08/2023 14:41:43 INFO 140593367467840] Epoch[8] Batch [20]#011Speed: 187.362 samples/sec#011accuracy=0.800595\u001b[0m\n",
      "\u001b[34m[01/08/2023 14:41:45 INFO 140593367467840] Epoch[8] Train-accuracy=0.809476\u001b[0m\n",
      "\u001b[34m[01/08/2023 14:41:45 INFO 140593367467840] Epoch[8] Time cost=5.119\u001b[0m\n",
      "\u001b[34m[01/08/2023 14:41:45 INFO 140593367467840] Epoch[8] Validation-accuracy=0.838542\u001b[0m\n",
      "\u001b[34m[01/08/2023 14:41:46 INFO 140593367467840] Storing the best model with validation accuracy: 0.838542\u001b[0m\n",
      "\u001b[34m[01/08/2023 14:41:46 INFO 140593367467840] Saved checkpoint to \"/opt/ml/model/image-classification-0009.params\"\u001b[0m\n",
      "\u001b[34m[01/08/2023 14:41:49 INFO 140593367467840] Epoch[9] Batch [20]#011Speed: 189.108 samples/sec#011accuracy=0.839286\u001b[0m\n",
      "\u001b[34m[01/08/2023 14:41:51 INFO 140593367467840] Epoch[9] Train-accuracy=0.840726\u001b[0m\n",
      "\u001b[34m[01/08/2023 14:41:51 INFO 140593367467840] Epoch[9] Time cost=5.078\u001b[0m\n",
      "\u001b[34m[01/08/2023 14:41:52 INFO 140593367467840] Epoch[9] Validation-accuracy=0.822917\u001b[0m\n",
      "\u001b[34m[01/08/2023 14:41:55 INFO 140593367467840] Epoch[10] Batch [20]#011Speed: 189.477 samples/sec#011accuracy=0.821429\u001b[0m\n",
      "\u001b[34m[01/08/2023 14:41:57 INFO 140593367467840] Epoch[10] Train-accuracy=0.823589\u001b[0m\n",
      "\u001b[34m[01/08/2023 14:41:57 INFO 140593367467840] Epoch[10] Time cost=5.041\u001b[0m\n",
      "\u001b[34m[01/08/2023 14:41:58 INFO 140593367467840] Epoch[10] Validation-accuracy=0.854167\u001b[0m\n",
      "\u001b[34m[01/08/2023 14:41:58 INFO 140593367467840] Storing the best model with validation accuracy: 0.854167\u001b[0m\n",
      "\u001b[34m[01/08/2023 14:41:58 INFO 140593367467840] Saved checkpoint to \"/opt/ml/model/image-classification-0011.params\"\u001b[0m\n",
      "\u001b[34m[01/08/2023 14:42:02 INFO 140593367467840] Epoch[11] Batch [20]#011Speed: 179.916 samples/sec#011accuracy=0.843750\u001b[0m\n",
      "\u001b[34m[01/08/2023 14:42:04 INFO 140593367467840] Epoch[11] Train-accuracy=0.834677\u001b[0m\n",
      "\u001b[34m[01/08/2023 14:42:04 INFO 140593367467840] Epoch[11] Time cost=5.368\u001b[0m\n",
      "\u001b[34m[01/08/2023 14:42:04 INFO 140593367467840] Epoch[11] Validation-accuracy=0.866071\u001b[0m\n",
      "\u001b[34m[01/08/2023 14:42:05 INFO 140593367467840] Storing the best model with validation accuracy: 0.866071\u001b[0m\n",
      "\u001b[34m[01/08/2023 14:42:05 INFO 140593367467840] Saved checkpoint to \"/opt/ml/model/image-classification-0012.params\"\u001b[0m\n",
      "\u001b[34m[01/08/2023 14:42:08 INFO 140593367467840] Epoch[12] Batch [20]#011Speed: 183.693 samples/sec#011accuracy=0.882440\u001b[0m\n",
      "\u001b[34m[01/08/2023 14:42:10 INFO 140593367467840] Epoch[12] Train-accuracy=0.878024\u001b[0m\n",
      "\u001b[34m[01/08/2023 14:42:10 INFO 140593367467840] Epoch[12] Time cost=5.174\u001b[0m\n",
      "\u001b[34m[01/08/2023 14:42:11 INFO 140593367467840] Epoch[12] Validation-accuracy=0.848958\u001b[0m\n",
      "\u001b[34m[01/08/2023 14:42:15 INFO 140593367467840] Epoch[13] Batch [20]#011Speed: 185.863 samples/sec#011accuracy=0.875000\u001b[0m\n",
      "\u001b[34m[01/08/2023 14:42:16 INFO 140593367467840] Epoch[13] Train-accuracy=0.875000\u001b[0m\n",
      "\u001b[34m[01/08/2023 14:42:16 INFO 140593367467840] Epoch[13] Time cost=5.109\u001b[0m\n",
      "\u001b[34m[01/08/2023 14:42:17 INFO 140593367467840] Epoch[13] Validation-accuracy=0.833333\u001b[0m\n",
      "\u001b[34m[01/08/2023 14:42:21 INFO 140593367467840] Epoch[14] Batch [20]#011Speed: 187.849 samples/sec#011accuracy=0.900298\u001b[0m\n",
      "\u001b[34m[01/08/2023 14:42:22 INFO 140593367467840] Epoch[14] Train-accuracy=0.894153\u001b[0m\n",
      "\u001b[34m[01/08/2023 14:42:22 INFO 140593367467840] Epoch[14] Time cost=5.084\u001b[0m\n",
      "\u001b[34m[01/08/2023 14:42:23 INFO 140593367467840] Epoch[14] Validation-accuracy=0.838542\u001b[0m\n",
      "\u001b[34m[01/08/2023 14:42:27 INFO 140593367467840] Epoch[15] Batch [20]#011Speed: 186.202 samples/sec#011accuracy=0.895833\u001b[0m\n",
      "\u001b[34m[01/08/2023 14:42:28 INFO 140593367467840] Epoch[15] Train-accuracy=0.889113\u001b[0m\n",
      "\u001b[34m[01/08/2023 14:42:28 INFO 140593367467840] Epoch[15] Time cost=5.085\u001b[0m\n",
      "\u001b[34m[01/08/2023 14:42:29 INFO 140593367467840] Epoch[15] Validation-accuracy=0.821429\u001b[0m\n",
      "\u001b[34m[01/08/2023 14:42:33 INFO 140593367467840] Epoch[16] Batch [20]#011Speed: 185.882 samples/sec#011accuracy=0.918155\u001b[0m\n",
      "\u001b[34m[01/08/2023 14:42:35 INFO 140593367467840] Epoch[16] Train-accuracy=0.884073\u001b[0m\n",
      "\u001b[34m[01/08/2023 14:42:35 INFO 140593367467840] Epoch[16] Time cost=5.089\u001b[0m\n",
      "\u001b[34m[01/08/2023 14:42:35 INFO 140593367467840] Epoch[16] Validation-accuracy=0.796875\u001b[0m\n",
      "\u001b[34m[01/08/2023 14:42:39 INFO 140593367467840] Epoch[17] Batch [20]#011Speed: 187.047 samples/sec#011accuracy=0.921131\u001b[0m\n",
      "\u001b[34m[01/08/2023 14:42:41 INFO 140593367467840] Epoch[17] Train-accuracy=0.918347\u001b[0m\n",
      "\u001b[34m[01/08/2023 14:42:41 INFO 140593367467840] Epoch[17] Time cost=5.111\u001b[0m\n",
      "\u001b[34m[01/08/2023 14:42:41 INFO 140593367467840] Epoch[17] Validation-accuracy=0.833333\u001b[0m\n",
      "\u001b[34m[01/08/2023 14:42:45 INFO 140593367467840] Epoch[18] Batch [20]#011Speed: 188.403 samples/sec#011accuracy=0.882440\u001b[0m\n",
      "\u001b[34m[01/08/2023 14:42:47 INFO 140593367467840] Epoch[18] Train-accuracy=0.892137\u001b[0m\n",
      "\u001b[34m[01/08/2023 14:42:47 INFO 140593367467840] Epoch[18] Time cost=5.026\u001b[0m\n",
      "\u001b[34m[01/08/2023 14:42:47 INFO 140593367467840] Epoch[18] Validation-accuracy=0.859375\u001b[0m\n",
      "\u001b[34m[01/08/2023 14:42:51 INFO 140593367467840] Epoch[19] Batch [20]#011Speed: 191.020 samples/sec#011accuracy=0.938988\u001b[0m\n",
      "\u001b[34m[01/08/2023 14:42:53 INFO 140593367467840] Epoch[19] Train-accuracy=0.935484\u001b[0m\n",
      "\u001b[34m[01/08/2023 14:42:53 INFO 140593367467840] Epoch[19] Time cost=5.013\u001b[0m\n",
      "\u001b[34m[01/08/2023 14:42:53 INFO 140593367467840] Epoch[19] Validation-accuracy=0.794643\u001b[0m\n",
      "\u001b[34m[01/08/2023 14:42:57 INFO 140593367467840] Epoch[20] Batch [20]#011Speed: 187.752 samples/sec#011accuracy=0.961310\u001b[0m\n",
      "\u001b[34m[01/08/2023 14:42:59 INFO 140593367467840] Epoch[20] Train-accuracy=0.951613\u001b[0m\n",
      "\u001b[34m[01/08/2023 14:42:59 INFO 140593367467840] Epoch[20] Time cost=5.075\u001b[0m\n",
      "\u001b[34m[01/08/2023 14:42:59 INFO 140593367467840] Epoch[20] Validation-accuracy=0.854167\u001b[0m\n",
      "\u001b[34m[01/08/2023 14:43:03 INFO 140593367467840] Epoch[21] Batch [20]#011Speed: 182.143 samples/sec#011accuracy=0.941964\u001b[0m\n",
      "\u001b[34m[01/08/2023 14:43:05 INFO 140593367467840] Epoch[21] Train-accuracy=0.936492\u001b[0m\n",
      "\u001b[34m[01/08/2023 14:43:05 INFO 140593367467840] Epoch[21] Time cost=5.189\u001b[0m\n",
      "\u001b[34m[01/08/2023 14:43:05 INFO 140593367467840] Epoch[21] Validation-accuracy=0.770833\u001b[0m\n",
      "\u001b[34m[01/08/2023 14:43:09 INFO 140593367467840] Epoch[22] Batch [20]#011Speed: 187.156 samples/sec#011accuracy=0.922619\u001b[0m\n",
      "\u001b[34m[01/08/2023 14:43:11 INFO 140593367467840] Epoch[22] Train-accuracy=0.919355\u001b[0m\n",
      "\u001b[34m[01/08/2023 14:43:11 INFO 140593367467840] Epoch[22] Time cost=5.088\u001b[0m\n",
      "\u001b[34m[01/08/2023 14:43:12 INFO 140593367467840] Epoch[22] Validation-accuracy=0.828125\u001b[0m\n",
      "\u001b[34m[01/08/2023 14:43:16 INFO 140593367467840] Epoch[23] Batch [20]#011Speed: 186.480 samples/sec#011accuracy=0.976190\u001b[0m\n",
      "\u001b[34m[01/08/2023 14:43:17 INFO 140593367467840] Epoch[23] Train-accuracy=0.963710\u001b[0m\n",
      "\u001b[34m[01/08/2023 14:43:17 INFO 140593367467840] Epoch[23] Time cost=5.099\u001b[0m\n",
      "\u001b[34m[01/08/2023 14:43:18 INFO 140593367467840] Epoch[23] Validation-accuracy=0.834821\u001b[0m\n",
      "\u001b[34m[01/08/2023 14:43:22 INFO 140593367467840] Epoch[24] Batch [20]#011Speed: 188.198 samples/sec#011accuracy=0.941964\u001b[0m\n",
      "\u001b[34m[01/08/2023 14:43:23 INFO 140593367467840] Epoch[24] Train-accuracy=0.951613\u001b[0m\n",
      "\u001b[34m[01/08/2023 14:43:23 INFO 140593367467840] Epoch[24] Time cost=5.078\u001b[0m\n",
      "\u001b[34m[01/08/2023 14:43:24 INFO 140593367467840] Epoch[24] Validation-accuracy=0.875000\u001b[0m\n",
      "\u001b[34m[01/08/2023 14:43:24 INFO 140593367467840] Storing the best model with validation accuracy: 0.875000\u001b[0m\n",
      "\u001b[34m[01/08/2023 14:43:24 INFO 140593367467840] Saved checkpoint to \"/opt/ml/model/image-classification-0025.params\"\u001b[0m\n",
      "\u001b[34m[01/08/2023 14:43:28 INFO 140593367467840] Epoch[25] Batch [20]#011Speed: 189.455 samples/sec#011accuracy=0.973214\u001b[0m\n",
      "\u001b[34m[01/08/2023 14:43:29 INFO 140593367467840] Epoch[25] Train-accuracy=0.970766\u001b[0m\n",
      "\u001b[34m[01/08/2023 14:43:29 INFO 140593367467840] Epoch[25] Time cost=5.027\u001b[0m\n",
      "\u001b[34m[01/08/2023 14:43:30 INFO 140593367467840] Epoch[25] Validation-accuracy=0.807292\u001b[0m\n",
      "\u001b[34m[01/08/2023 14:43:34 INFO 140593367467840] Epoch[26] Batch [20]#011Speed: 187.553 samples/sec#011accuracy=0.955357\u001b[0m\n",
      "\u001b[34m[01/08/2023 14:43:36 INFO 140593367467840] Epoch[26] Train-accuracy=0.952621\u001b[0m\n",
      "\u001b[34m[01/08/2023 14:43:36 INFO 140593367467840] Epoch[26] Time cost=5.095\u001b[0m\n",
      "\u001b[34m[01/08/2023 14:43:36 INFO 140593367467840] Epoch[26] Validation-accuracy=0.848958\u001b[0m\n",
      "\u001b[34m[01/08/2023 14:43:40 INFO 140593367467840] Epoch[27] Batch [20]#011Speed: 189.621 samples/sec#011accuracy=0.977679\u001b[0m\n",
      "\u001b[34m[01/08/2023 14:43:42 INFO 140593367467840] Epoch[27] Train-accuracy=0.968750\u001b[0m\n",
      "\u001b[34m[01/08/2023 14:43:42 INFO 140593367467840] Epoch[27] Time cost=5.064\u001b[0m\n",
      "\u001b[34m[01/08/2023 14:43:42 INFO 140593367467840] Epoch[27] Validation-accuracy=0.843750\u001b[0m\n",
      "\u001b[34m[01/08/2023 14:43:46 INFO 140593367467840] Epoch[28] Batch [20]#011Speed: 185.891 samples/sec#011accuracy=0.979167\u001b[0m\n",
      "\u001b[34m[01/08/2023 14:43:48 INFO 140593367467840] Epoch[28] Train-accuracy=0.978831\u001b[0m\n",
      "\u001b[34m[01/08/2023 14:43:48 INFO 140593367467840] Epoch[28] Time cost=5.104\u001b[0m\n",
      "\u001b[34m[01/08/2023 14:43:48 INFO 140593367467840] Epoch[28] Validation-accuracy=0.833333\u001b[0m\n",
      "\n",
      "2023-01-08 14:44:04 Uploading - Uploading generated training model\u001b[34m[01/08/2023 14:43:52 INFO 140593367467840] Epoch[29] Batch [20]#011Speed: 186.997 samples/sec#011accuracy=0.988095\u001b[0m\n",
      "\u001b[34m[01/08/2023 14:43:54 INFO 140593367467840] Epoch[29] Train-accuracy=0.987903\u001b[0m\n",
      "\u001b[34m[01/08/2023 14:43:54 INFO 140593367467840] Epoch[29] Time cost=5.064\u001b[0m\n",
      "\u001b[34m[01/08/2023 14:43:54 INFO 140593367467840] Epoch[29] Validation-accuracy=0.843750\u001b[0m\n",
      "\n",
      "2023-01-08 14:45:04 Completed - Training job completed\n",
      "ProfilerReport-1673188579: NoIssuesFound\n",
      "Training seconds: 414\n",
      "Billable seconds: 414\n"
     ]
    }
   ],
   "source": [
    "img_classifier_model.fit(model_inputs)"
   ]
  },
  {
   "cell_type": "markdown",
   "metadata": {},
   "source": [
    "If all goes well, you'll end up with a model topping out above `.8` validation accuracy. With only 1000 training samples in the CIFAR dataset, that's pretty good. We could definitely pursue data augmentation & gathering more samples to help us improve further, but for now let's proceed to deploy our model.\n",
    "\n",
    "### Getting ready to deploy\n",
    "\n",
    "To begin with, let's configure Model Monitor to track our deployment. We'll define a `DataCaptureConfig` below:"
   ]
  },
  {
   "cell_type": "code",
   "execution_count": 5,
   "metadata": {
    "tags": []
   },
   "outputs": [],
   "source": [
    "from sagemaker.model_monitor import DataCaptureConfig\n",
    "\n",
    "data_capture_config = DataCaptureConfig(\n",
    "    enable_capture=True,\n",
    "    sampling_percentage=100,\n",
    "    destination_s3_uri=f\"s3://{bucket}/data_capture\"\n",
    ")"
   ]
  },
  {
   "cell_type": "markdown",
   "metadata": {},
   "source": [
    "Note the `destination_s3_uri` parameter: At the end of the project, we can explore the `data_capture` directory in S3 to find crucial data about the inputs and outputs Model Monitor has observed on our model endpoint over time.\n",
    "\n",
    "With that done, deploy your model on a single `ml.m5.xlarge` instance with the data capture config attached:"
   ]
  },
  {
   "cell_type": "code",
   "execution_count": 10,
   "metadata": {
    "tags": []
   },
   "outputs": [
    {
     "name": "stderr",
     "output_type": "stream",
     "text": [
      "Defaulting to the only supported framework/algorithm version: 1. Ignoring framework/algorithm version: latest.\n"
     ]
    }
   ],
   "source": [
    "# As the notebook was shut down, the model is created again\n",
    "algo_image = sagemaker.image_uris.retrieve('image-classification', region, version='latest')\n",
    "model_data = \"s3://sagemaker-us-east-1-731326286809/models/image_model/image-classification-2023-01-08-14-36-19-729/output/model.tar.gz\"\n",
    "img_classifier_model = sagemaker.Model(image_uri = algo_image, model_data=model_data, role=role)"
   ]
  },
  {
   "cell_type": "code",
   "execution_count": 13,
   "metadata": {
    "tags": []
   },
   "outputs": [
    {
     "name": "stdout",
     "output_type": "stream",
     "text": [
      "---------!"
     ]
    }
   ],
   "source": [
    "deployment = img_classifier_model.deploy(\n",
    "    initial_instance_count=1, instance_type='ml.m5.xlarge',\n",
    "    data_capture_config=data_capture_config\n",
    "    )\n",
    "\n",
    "# endpoint = deployment.endpoint_name\n",
    "# print(endpoint)"
   ]
  },
  {
   "cell_type": "code",
   "execution_count": 14,
   "metadata": {
    "tags": []
   },
   "outputs": [],
   "source": [
    "# The endpoint name cannot be retrieved from the `deployment variable` so it is hard-coded here:\n",
    "endpoint = \"image-classification-2023-01-15-14-12-44-799\""
   ]
  },
  {
   "cell_type": "markdown",
   "metadata": {},
   "source": [
    "Note the endpoint name for later as well.\n",
    "\n",
    "Next, instantiate a Predictor:"
   ]
  },
  {
   "cell_type": "code",
   "execution_count": 18,
   "metadata": {
    "tags": []
   },
   "outputs": [],
   "source": [
    "from sagemaker.predictor import Predictor\n",
    "\n",
    "predictor = Predictor(endpoint, session)"
   ]
  },
  {
   "cell_type": "markdown",
   "metadata": {},
   "source": [
    "In the code snippet below we are going to prepare one of your saved images for prediction. Use the predictor to process the `payload`."
   ]
  },
  {
   "cell_type": "code",
   "execution_count": 19,
   "metadata": {
    "tags": []
   },
   "outputs": [],
   "source": [
    "from sagemaker.serializers import IdentitySerializer\n",
    "import base64\n",
    "\n",
    "predictor.serializer = IdentitySerializer(\"image/png\")\n",
    "with open(\"./test/bicycle_s_001789.png\", \"rb\") as f:\n",
    "    payload = f.read()\n",
    "\n",
    "    \n",
    "inference = predictor.predict(payload)"
   ]
  },
  {
   "cell_type": "markdown",
   "metadata": {},
   "source": [
    "Your `inference` object is an array of two values, the predicted probability value for each of your classes (bicycle and motorcycle respectively.) So, for example, a value of `b'[0.91, 0.09]'` indicates the probability of being a bike is 91% and being a motorcycle is 9%."
   ]
  },
  {
   "cell_type": "code",
   "execution_count": 20,
   "metadata": {
    "tags": []
   },
   "outputs": [
    {
     "name": "stdout",
     "output_type": "stream",
     "text": [
      "b'[0.9254987835884094, 0.074501171708107]'\n"
     ]
    }
   ],
   "source": [
    "print(inference)"
   ]
  },
  {
   "cell_type": "markdown",
   "metadata": {},
   "source": [
    "### Draft Lambdas and Step Function Workflow"
   ]
  },
  {
   "cell_type": "markdown",
   "metadata": {},
   "source": [
    "Your operations team uses Step Functions to orchestrate serverless workflows. One of the nice things about Step Functions is that [workflows can call other workflows](https://docs.aws.amazon.com/step-functions/latest/dg/connect-stepfunctions.html), so the team can easily plug your workflow into the broader production architecture for Scones Unlimited.\n",
    "\n",
    "In this next stage you're going to write and deploy three Lambda functions, and then use the Step Functions visual editor to chain them together! Our functions are going to work with a simple data object:\n",
    "\n",
    "```python\n",
    "{\n",
    "    \"inferences\": [], # Output of predictor.predict\n",
    "    \"s3_key\": \"\", # Source data S3 key\n",
    "    \"s3_bucket\": \"\", # Source data S3 bucket\n",
    "    \"image_data\": \"\"  # base64 encoded string containing the image data\n",
    "}\n",
    "```\n",
    "\n",
    "A good test object that you can use for Lambda tests and Step Function executions, throughout the next section, might look like this:\n",
    "\n",
    "```python\n",
    "{\n",
    "  \"image_data\": \"\",\n",
    "  \"s3_bucket\": MY_BUCKET_NAME, # Fill in with your bucket\n",
    "  \"s3_key\": \"test/bicycle_s_000513.png\"\n",
    "}\n",
    "```"
   ]
  },
  {
   "cell_type": "markdown",
   "metadata": {},
   "source": [
    "#### First function"
   ]
  },
  {
   "cell_type": "markdown",
   "metadata": {},
   "source": [
    "Using these fields, your functions can read and write the necessary data to execute your workflow. Let's start with the first function. Your first Lambda function will copy an object from S3, base64 encode it, and then return it to the step function as `image_data` in an event.\n",
    "\n",
    "Go to the Lambda dashboard and create a new Lambda function with a descriptive name like \"serializeImageData\" and select thr 'Python 3.8' runtime. Add the same permissions as the SageMaker role you created earlier. (Reminder: you do this in the Configuration tab under \"Permissions\"). Once you're ready, use the starter code below to craft your Lambda handler:\n",
    "\n",
    "```python\n",
    "import json\n",
    "import boto3\n",
    "import base64\n",
    "\n",
    "s3 = boto3.client('s3')\n",
    "\n",
    "def lambda_handler(event, context):\n",
    "    \"\"\"A function to serialize target data from S3\"\"\"\n",
    "    \n",
    "    # Get the s3 address from the Step Function event input\n",
    "    key = event[\"s3_key\"]\n",
    "    bucket = event[\"s3_bucket\"]\n",
    "    \n",
    "    # Download the data from s3 to /tmp/image.png\n",
    "    s3.download_file(bucket, key, '/tmp/image.png')\n",
    "    \n",
    "    # We read the data from a file\n",
    "    with open(\"/tmp/image.png\", \"rb\") as f:\n",
    "        image_data = base64.b64encode(f.read())\n",
    "\n",
    "    # Pass the data back to the Step Function\n",
    "    print(\"Event:\", event.keys())\n",
    "    return {\n",
    "        'statusCode': 200,\n",
    "        'body': {\n",
    "            \"image_data\": image_data,\n",
    "            \"s3_bucket\": bucket,\n",
    "            \"s3_key\": key,\n",
    "            \"inferences\": []\n",
    "        }\n",
    "    }\n",
    "```"
   ]
  },
  {
   "cell_type": "markdown",
   "metadata": {},
   "source": [
    "#### Second function"
   ]
  },
  {
   "cell_type": "markdown",
   "metadata": {},
   "source": [
    "The next function is responsible for the classification part - we're going to take the image output from the previous function, decode it, and then pass inferences back to the the Step Function.\n",
    "\n",
    "Because this Lambda will have runtime dependencies (i.e. the SageMaker SDK) you'll need to package them in your function. *Key reading:* https://docs.aws.amazon.com/lambda/latest/dg/python-package-create.html#python-package-create-with-dependency\n",
    "\n",
    "*Another Key reading if you are creating the package with dependencies in a OS different from Linux:* https://aws.amazon.com/premiumsupport/knowledge-center/lambda-python-package-compatible/\n",
    "\n",
    "Sequence of commands to package the dependencies:\n",
    "```bash\n",
    "cd <directory-containing-lambda_function.py>\n",
    "\n",
    "# Install sagemaker\n",
    "pip install sagemaker --target sagemaker-installation\n",
    "\n",
    "# Remove numpy since it will contain incompatible binary files (when installed in a OS different from Linux)\n",
    "rm -rf sagemaker-installation/numpy*\n",
    "\n",
    "# Download an AWS Linux compatible numpy package\n",
    "pip install numpy \\\n",
    "    --platform manylinux2014_x86_64 \\\n",
    "    --target=sagemaker-installation \\\n",
    "    --implementation cp \\\n",
    "    --python 3.8 \\\n",
    "    --only-binary=:all: --upgrade \n",
    " \n",
    "# Remove unnecessary files\n",
    "cd sagemaker-installation\n",
    "find . -type d -name \"tests\" -exec rm -rfv {} +\n",
    "find . -type d -name \"__pycache__\" -exec rm -rfv {} +\n",
    "\n",
    "# Zip everything together \n",
    "zip -r ../lambda-deployment.zip .\n",
    "cd ..\n",
    "zip -g lambda-deployment.zip lambda_function.py \n",
    "```"
   ]
  },
  {
   "cell_type": "markdown",
   "metadata": {},
   "source": [
    "Create a new Lambda function with the same rights and a descriptive name, then fill in the starter code below for your classifier Lambda.\n",
    "\n",
    "```python\n",
    "import json\n",
    "import sagemaker\n",
    "import base64\n",
    "from sagemaker.serializers import IdentitySerializer\n",
    "\n",
    "# Fill this in with the name of your deployed model\n",
    "ENDPOINT = \"image-classification-2023-01-15-14-12-44-799\"\n",
    "\n",
    "def lambda_handler(event, context):\n",
    "\n",
    "    # Decode the image data\n",
    "    image = base64.b64decode(event[\"image_data\"])\n",
    "\n",
    "    # Instantiate a Predictor\n",
    "    predictor = sagemaker.Predictor(ENDPOINT,  sagemaker.Session())\n",
    "    \n",
    "    # For this model the IdentitySerializer needs to be \"image/png\"\n",
    "    predictor.serializer = IdentitySerializer(\"image/png\")\n",
    "    \n",
    "    # Make a prediction:\n",
    "    inferences = predictor.predict(image)\n",
    "    \n",
    "    # We return the data back to the Step Function    \n",
    "    event[\"inferences\"] = inferences.decode('utf-8')\n",
    "    return {\n",
    "        'statusCode': 200,\n",
    "        'body': json.dumps(event)\n",
    "    }\n",
    "```"
   ]
  },
  {
   "cell_type": "markdown",
   "metadata": {},
   "source": [
    "#### Third function"
   ]
  },
  {
   "cell_type": "markdown",
   "metadata": {},
   "source": [
    "Finally, we need to filter low-confidence inferences. Define a threshold between 1.00 and 0.000 for your model: what is reasonble for you? If the model predicts at `.70` for it's highest confidence label, do we want to pass that inference along to downstream systems? Make one last Lambda function and tee up the same permissions:\n",
    "\n",
    "```python\n",
    "import json\n",
    "\n",
    "\n",
    "THRESHOLD = .93\n",
    "\n",
    "\n",
    "def lambda_handler(event, context):\n",
    "    \n",
    "    # Grab the inferences from the event\n",
    "    inferences = eval(event[\"inferences\"])\n",
    "    \n",
    "    # Check if any values in our inferences are above THRESHOLD\n",
    "    meets_threshold = max(inferences) > THRESHOLD\n",
    "    \n",
    "    # If our threshold is met, pass our data back out of the\n",
    "    # Step Function, else, end the Step Function with an error\n",
    "    if meets_threshold:\n",
    "        pass\n",
    "    else:\n",
    "        msg = f\"THRESHOLD CONFIDENCE NOT MET. Threshold is {THRESHOLD} but inferences are {inferences}\"\n",
    "        raise Exception(msg)\n",
    "\n",
    "    return {\n",
    "        'statusCode': 200,\n",
    "        'body': json.dumps(event)\n",
    "    }\n",
    "```\n",
    "Once you have tested the lambda functions, save the code for each lambda function in a python script called 'lambda.py'."
   ]
  },
  {
   "cell_type": "markdown",
   "metadata": {},
   "source": [
    "#### Step functions"
   ]
  },
  {
   "cell_type": "markdown",
   "metadata": {},
   "source": [
    "With your lambdas in place, you can use the Step Functions visual editor to construct a workflow that chains them together. In the Step Functions console you'll have the option to author a Standard step function *Visually*.\n",
    "\n",
    "When the visual editor opens, you'll have many options to add transitions in your workflow. We're going to keep it simple and have just one: to invoke Lambda functions. Add three of them chained together. For each one, you'll be able to select the Lambda functions you just created in the proper order, filter inputs and outputs, and give them descriptive names.\n",
    "\n",
    "Make sure that you:\n",
    "\n",
    "1. Are properly filtering the inputs and outputs of your invokations (e.g. `$.body`)\n",
    "2. Take care to remove the error handling from the last function - it's supposed to \"fail loudly\" for your operations colleagues!\n",
    "\n",
    "Take a screenshot of your working step function in action and export the step function as JSON for your submission package."
   ]
  },
  {
   "cell_type": "markdown",
   "metadata": {},
   "source": [
    "\n",
    "Great! Now you can use the files in `./test` as test files for our workflow. Depending on our threshold, our workflow should reliably pass predictions about images from `./test` on to downstream systems, while erroring out for inferences below our confidence threshold!\n",
    "\n",
    "### Testing and Evaluation\n",
    "\n",
    "Do several step function invokations using data from the `./test` folder. This process should give you confidence that the workflow both *succeeds* AND *fails* as expected. In addition, SageMaker Model Monitor will generate recordings of your data and inferences which we can visualize.\n",
    "\n",
    "Here's a function that can help you generate test inputs for your invokations:"
   ]
  },
  {
   "cell_type": "code",
   "execution_count": 22,
   "metadata": {
    "tags": []
   },
   "outputs": [],
   "source": [
    "s3 = boto3.resource('s3')"
   ]
  },
  {
   "cell_type": "code",
   "execution_count": 28,
   "metadata": {
    "tags": []
   },
   "outputs": [
    {
     "data": {
      "text/plain": [
       "s3.Bucket.objectsCollection(s3.Bucket(name='sagemaker-us-east-1-731326286809'), s3.ObjectSummary)"
      ]
     },
     "execution_count": 28,
     "metadata": {},
     "output_type": "execute_result"
    }
   ],
   "source": [
    "s3.Bucket(bucket).objects.filter(Prefix=\"test\")"
   ]
  },
  {
   "cell_type": "code",
   "execution_count": 48,
   "metadata": {},
   "outputs": [
    {
     "data": {
      "text/plain": [
       "'{\"image_data\": \"\", \"s3_bucket\": \"sagemaker-us-east-1-731326286809\", \"s3_key\": \"test/cycle_s_001214.png\"}'"
      ]
     },
     "execution_count": 48,
     "metadata": {},
     "output_type": "execute_result"
    }
   ],
   "source": [
    "import random\n",
    "import boto3\n",
    "import json\n",
    "\n",
    "\n",
    "def generate_test_case():\n",
    "    # Setup s3 in boto3\n",
    "    s3 = boto3.resource('s3')\n",
    "    \n",
    "    # Randomly pick from sfn or test folders in our bucket\n",
    "    objects = s3.Bucket(bucket).objects.filter(Prefix=\"test\")\n",
    "    \n",
    "    # Grab any random object key from that folder!\n",
    "    obj = random.choice([x.key for x in objects])\n",
    "    \n",
    "    return json.dumps({\n",
    "        \"image_data\": \"\",\n",
    "        \"s3_bucket\": bucket,\n",
    "        \"s3_key\": obj\n",
    "    })\n",
    "generate_test_case()"
   ]
  },
  {
   "cell_type": "code",
   "execution_count": 49,
   "metadata": {
    "tags": []
   },
   "outputs": [],
   "source": [
    "import os\n",
    "\n",
    "from sagemaker.serializers import IdentitySerializer\n",
    "import base64\n",
    "\n",
    "# List the file names we downloaded\n",
    "file_handles = os.listdir(\"./test\")"
   ]
  },
  {
   "cell_type": "markdown",
   "metadata": {},
   "source": [
    "In the Step Function dashboard for your new function, you can create new executions and copy in the generated test cases. Do several executions so that you can generate data you can evaluate and visualize.\n",
    "\n",
    "Once you've done several executions, let's visualize the record of our inferences. Pull in the JSONLines data from your inferences like so:"
   ]
  },
  {
   "cell_type": "code",
   "execution_count": 57,
   "metadata": {},
   "outputs": [],
   "source": [
    "from sagemaker.s3 import S3Downloader\n",
    "\n",
    "# In S3 your data will be saved to a datetime-aware path\n",
    "# Find a path related to a datetime you're interested in\n",
    "data_path = \"s3://sagemaker-us-east-1-731326286809/data_capture/image-classification-2023-01-15-14-12-44-799/AllTraffic/2023/01/15/16/\"\n",
    "S3Downloader.download(data_path, \"captured_data\")\n",
    "\n",
    "# Feel free to repeat this multiple times and pull in more data"
   ]
  },
  {
   "cell_type": "markdown",
   "metadata": {},
   "source": [
    "The data are in JSONLines format, where multiple valid JSON objects are stacked on top of eachother in a single `jsonl` file. We'll import an open-source library, `jsonlines` that was purpose built for parsing this format."
   ]
  },
  {
   "cell_type": "code",
   "execution_count": null,
   "metadata": {
    "tags": []
   },
   "outputs": [],
   "source": [
    "!pip install jsonlines\n",
    "import jsonlines"
   ]
  },
  {
   "cell_type": "markdown",
   "metadata": {},
   "source": [
    "Now we can extract the data from each of the source files:"
   ]
  },
  {
   "cell_type": "code",
   "execution_count": 5,
   "metadata": {},
   "outputs": [],
   "source": [
    "import os\n",
    "\n",
    "# List the file names we downloaded\n",
    "file_handles = os.listdir(\"./captured_data\")\n",
    "\n",
    "# Dump all the data into an array\n",
    "json_data = []\n",
    "for jsonl in file_handles:\n",
    "    with jsonlines.open(f\"./captured_data/{jsonl}\") as f:\n",
    "        json_data.append(f.read())"
   ]
  },
  {
   "cell_type": "markdown",
   "metadata": {},
   "source": [
    "The data should now be a list of dictionaries, with significant nesting. We'll give you an example of some code that grabs data out of the objects and visualizes it:"
   ]
  },
  {
   "cell_type": "code",
   "execution_count": 9,
   "metadata": {},
   "outputs": [
    {
     "data": {
      "text/plain": [
       "([0.9914674758911133, 0.008532576262950897], '2023-01-15T15:09:47Z')"
      ]
     },
     "execution_count": 9,
     "metadata": {},
     "output_type": "execute_result"
    }
   ],
   "source": [
    "# Define how we'll get our data\n",
    "import json\n",
    "\n",
    "def simple_getter(obj):\n",
    "    inferences = obj[\"captureData\"][\"endpointOutput\"][\"data\"]\n",
    "    timestamp = obj[\"eventMetadata\"][\"inferenceTime\"]\n",
    "    return json.loads(inferences), timestamp\n",
    "\n",
    "simple_getter(json_data[0])"
   ]
  },
  {
   "cell_type": "markdown",
   "metadata": {},
   "source": [
    "Finally, here's an example of a visualization you can build with this data. In this last part, you will take some time and build your own - the captured data has the input images, the resulting inferences, and the timestamps."
   ]
  },
  {
   "cell_type": "code",
   "execution_count": 16,
   "metadata": {
    "tags": []
   },
   "outputs": [],
   "source": [
    "with jsonlines.open(f\"./captured_data/35-53-545-86bec72f-c2ed-4c04-803d-884e2181caa4.jsonl\") as reader:\n",
    "        for obj in reader: \n",
    "            json_data.append(obj)"
   ]
  },
  {
   "cell_type": "code",
   "execution_count": 17,
   "metadata": {
    "tags": []
   },
   "outputs": [
    {
     "data": {
      "text/plain": [
       "414"
      ]
     },
     "execution_count": 17,
     "metadata": {},
     "output_type": "execute_result"
    }
   ],
   "source": [
    "len(json_data)"
   ]
  },
  {
   "cell_type": "code",
   "execution_count": 18,
   "metadata": {},
   "outputs": [
    {
     "data": {
      "image/png": "[encoded data removed]",
      "text/plain": [
       "<Figure size 640x480 with 1 Axes>"
      ]
     },
     "metadata": {},
     "output_type": "display_data"
    }
   ],
   "source": [
    "%matplotlib inline\n",
    "import matplotlib.pyplot as plt\n",
    "\n",
    "# Populate the data for the x and y axis\n",
    "x = []\n",
    "y = []\n",
    "for obj in json_data:\n",
    "    inference, timestamp = simple_getter(obj)\n",
    "    \n",
    "    y.append(max(inference))\n",
    "    x.append(timestamp)\n",
    "\n",
    "# Todo: here is an visualization example, take some time to build another visual that helps monitor the result\n",
    "# Plot the data\n",
    "plt.scatter(x, y, c=['r' if k<.94 else 'b' for k in y ])\n",
    "plt.axhline(y=0.94, color='g', linestyle='--')\n",
    "plt.ylim(bottom=.88)\n",
    "\n",
    "# Add labels\n",
    "plt.ylabel(\"Confidence\")\n",
    "plt.suptitle(\"Observed Recent Inferences\", size=14)\n",
    "plt.title(\"Pictured with confidence threshold for production use\", size=10)\n",
    "\n",
    "# Give it some pizzaz!\n",
    "plt.style.use(\"Solarize_Light2\")\n",
    "plt.gcf().autofmt_xdate()"
   ]
  },
  {
   "cell_type": "markdown",
   "metadata": {},
   "source": [
    "### Distribution of the predictions"
   ]
  },
  {
   "cell_type": "code",
   "execution_count": 35,
   "metadata": {
    "tags": []
   },
   "outputs": [
    {
     "data": {
      "image/png": "[encoded data removed]",
      "text/plain": [
       "<Figure size 626.125x500 with 1 Axes>"
      ]
     },
     "metadata": {},
     "output_type": "display_data"
    }
   ],
   "source": [
    "import pandas as pd\n",
    "import seaborn as sns\n",
    "\n",
    "# Populate the data for the x and y axis\n",
    "prediction_scores = []\n",
    "for obj in json_data:\n",
    "    inference, _ = simple_getter(obj)\n",
    "    prediction_scores.append(inference[0])\n",
    "  \n",
    "predicted_labels = ['Motorcycle' if score<.5 else 'Bicycle' for score in prediction_scores]\n",
    "prediction_scores_df = pd.DataFrame({'scores':prediction_scores, 'Predicted labels':predicted_labels})\n",
    "\n",
    "sns.displot(prediction_scores_df, x='scores', hue='Predicted labels', bins=50)\n",
    "plt.title('Distribution of the prediction scores');"
   ]
  },
  {
   "cell_type": "markdown",
   "metadata": {},
   "source": [
    "### Congratulations!\n",
    "\n",
    "You've reached the end of the project. In this project you created an event-drivent ML workflow that can be incorporated into the Scones Unlimited production architecture. You used the SageMaker Estimator API to deploy your SageMaker Model and Endpoint, and you used AWS Lambda and Step Functions to orchestrate your ML workflow. Using SageMaker Model Monitor, you instrumented and observed your Endpoint, and at the end of the project you built a visualization to help stakeholders understand the performance of the Endpoint over time. If you're up for it, you can even go further with these stretch goals:\n",
    "\n",
    "* Extend your workflow to incorporate more classes: the CIFAR dataset includes other vehicles that Scones Unlimited can identify with this model.\n",
    "* Modify your event driven workflow: can you rewrite your Lambda functions so that the workflow can process multiple image inputs in parallel? Can the Step Function \"fan out\" to accomodate this new workflow?\n",
    "* Consider the test data generator we provided for you. Can we use it to create a \"dummy data\" generator, to simulate a continuous stream of input data? Or a big paralell load of data?\n",
    "* What if we want to get notified every time our step function errors out? Can we use the Step Functions visual editor in conjunction with a service like SNS to accomplish this? Try it out!\n",
    "\n",
    "\n"
   ]
  }
 ],
 "metadata": {
  "instance_type": "ml.t3.medium",
  "kernelspec": {
   "display_name": "Python 3 (ipykernel)",
   "language": "python",
   "name": "python3"
  },
  "language_info": {
   "codemirror_mode": {
    "name": "ipython",
    "version": 3
   },
   "file_extension": ".py",
   "mimetype": "text/x-python",
   "name": "python",
   "nbconvert_exporter": "python",
   "pygments_lexer": "ipython3",
   "version": "3.8.8"
  }
 },
 "nbformat": 4,
 "nbformat_minor": 4
}
